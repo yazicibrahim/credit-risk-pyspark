{
  "nbformat": 4,
  "nbformat_minor": 0,
  "metadata": {
    "colab": {
      "provenance": [],
      "authorship_tag": "ABX9TyP+HrkepcCMxrrP7rw2jBRt",
      "include_colab_link": true
    },
    "kernelspec": {
      "name": "python3",
      "display_name": "Python 3"
    },
    "language_info": {
      "name": "python"
    }
  },
  "cells": [
    {
      "cell_type": "markdown",
      "metadata": {
        "id": "view-in-github",
        "colab_type": "text"
      },
      "source": [
        "<a href=\"https://colab.research.google.com/github/yazicibrahim/credit-risk-pyspark/blob/main/Untitled51.ipynb\" target=\"_parent\"><img src=\"https://colab.research.google.com/assets/colab-badge.svg\" alt=\"Open In Colab\"/></a>"
      ]
    },
    {
      "cell_type": "code",
      "execution_count": 1,
      "metadata": {
        "colab": {
          "base_uri": "https://localhost:8080/"
        },
        "id": "Jfc01aq_N6pC",
        "outputId": "669aac65-0426-4030-e30b-8e8cbbb95a8a"
      },
      "outputs": [
        {
          "output_type": "stream",
          "name": "stdout",
          "text": [
            "Requirement already satisfied: pyspark in /usr/local/lib/python3.12/dist-packages (3.5.1)\n",
            "Requirement already satisfied: py4j==0.10.9.7 in /usr/local/lib/python3.12/dist-packages (from pyspark) (0.10.9.7)\n"
          ]
        }
      ],
      "source": [
        "!pip install pyspark\n"
      ]
    },
    {
      "cell_type": "code",
      "source": [
        "from pyspark.sql import SparkSession\n",
        "\n",
        "spark = SparkSession.builder.appName(\"LoanRiskPrediction\").getOrCreate()\n"
      ],
      "metadata": {
        "id": "2GSFA6g7N-V5"
      },
      "execution_count": 2,
      "outputs": []
    },
    {
      "cell_type": "code",
      "source": [
        "from google.colab import files\n",
        "uploaded = files.upload()  # CSV dosyanı yükle\n",
        "\n",
        "df = spark.read.csv(\"/content/german_credit_data.csv\", header=True, inferSchema=True)\n",
        "df.show(5)\n",
        "df.printSchema()\n"
      ],
      "metadata": {
        "colab": {
          "base_uri": "https://localhost:8080/",
          "height": 504
        },
        "id": "0ss64a5mODv8",
        "outputId": "2d93c737-dae2-4565-cf0d-73f34afd1970"
      },
      "execution_count": 3,
      "outputs": [
        {
          "output_type": "display_data",
          "data": {
            "text/plain": [
              "<IPython.core.display.HTML object>"
            ],
            "text/html": [
              "\n",
              "     <input type=\"file\" id=\"files-674fc02d-6deb-4dc2-8e85-63bc95c070e8\" name=\"files[]\" multiple disabled\n",
              "        style=\"border:none\" />\n",
              "     <output id=\"result-674fc02d-6deb-4dc2-8e85-63bc95c070e8\">\n",
              "      Upload widget is only available when the cell has been executed in the\n",
              "      current browser session. Please rerun this cell to enable.\n",
              "      </output>\n",
              "      <script>// Copyright 2017 Google LLC\n",
              "//\n",
              "// Licensed under the Apache License, Version 2.0 (the \"License\");\n",
              "// you may not use this file except in compliance with the License.\n",
              "// You may obtain a copy of the License at\n",
              "//\n",
              "//      http://www.apache.org/licenses/LICENSE-2.0\n",
              "//\n",
              "// Unless required by applicable law or agreed to in writing, software\n",
              "// distributed under the License is distributed on an \"AS IS\" BASIS,\n",
              "// WITHOUT WARRANTIES OR CONDITIONS OF ANY KIND, either express or implied.\n",
              "// See the License for the specific language governing permissions and\n",
              "// limitations under the License.\n",
              "\n",
              "/**\n",
              " * @fileoverview Helpers for google.colab Python module.\n",
              " */\n",
              "(function(scope) {\n",
              "function span(text, styleAttributes = {}) {\n",
              "  const element = document.createElement('span');\n",
              "  element.textContent = text;\n",
              "  for (const key of Object.keys(styleAttributes)) {\n",
              "    element.style[key] = styleAttributes[key];\n",
              "  }\n",
              "  return element;\n",
              "}\n",
              "\n",
              "// Max number of bytes which will be uploaded at a time.\n",
              "const MAX_PAYLOAD_SIZE = 100 * 1024;\n",
              "\n",
              "function _uploadFiles(inputId, outputId) {\n",
              "  const steps = uploadFilesStep(inputId, outputId);\n",
              "  const outputElement = document.getElementById(outputId);\n",
              "  // Cache steps on the outputElement to make it available for the next call\n",
              "  // to uploadFilesContinue from Python.\n",
              "  outputElement.steps = steps;\n",
              "\n",
              "  return _uploadFilesContinue(outputId);\n",
              "}\n",
              "\n",
              "// This is roughly an async generator (not supported in the browser yet),\n",
              "// where there are multiple asynchronous steps and the Python side is going\n",
              "// to poll for completion of each step.\n",
              "// This uses a Promise to block the python side on completion of each step,\n",
              "// then passes the result of the previous step as the input to the next step.\n",
              "function _uploadFilesContinue(outputId) {\n",
              "  const outputElement = document.getElementById(outputId);\n",
              "  const steps = outputElement.steps;\n",
              "\n",
              "  const next = steps.next(outputElement.lastPromiseValue);\n",
              "  return Promise.resolve(next.value.promise).then((value) => {\n",
              "    // Cache the last promise value to make it available to the next\n",
              "    // step of the generator.\n",
              "    outputElement.lastPromiseValue = value;\n",
              "    return next.value.response;\n",
              "  });\n",
              "}\n",
              "\n",
              "/**\n",
              " * Generator function which is called between each async step of the upload\n",
              " * process.\n",
              " * @param {string} inputId Element ID of the input file picker element.\n",
              " * @param {string} outputId Element ID of the output display.\n",
              " * @return {!Iterable<!Object>} Iterable of next steps.\n",
              " */\n",
              "function* uploadFilesStep(inputId, outputId) {\n",
              "  const inputElement = document.getElementById(inputId);\n",
              "  inputElement.disabled = false;\n",
              "\n",
              "  const outputElement = document.getElementById(outputId);\n",
              "  outputElement.innerHTML = '';\n",
              "\n",
              "  const pickedPromise = new Promise((resolve) => {\n",
              "    inputElement.addEventListener('change', (e) => {\n",
              "      resolve(e.target.files);\n",
              "    });\n",
              "  });\n",
              "\n",
              "  const cancel = document.createElement('button');\n",
              "  inputElement.parentElement.appendChild(cancel);\n",
              "  cancel.textContent = 'Cancel upload';\n",
              "  const cancelPromise = new Promise((resolve) => {\n",
              "    cancel.onclick = () => {\n",
              "      resolve(null);\n",
              "    };\n",
              "  });\n",
              "\n",
              "  // Wait for the user to pick the files.\n",
              "  const files = yield {\n",
              "    promise: Promise.race([pickedPromise, cancelPromise]),\n",
              "    response: {\n",
              "      action: 'starting',\n",
              "    }\n",
              "  };\n",
              "\n",
              "  cancel.remove();\n",
              "\n",
              "  // Disable the input element since further picks are not allowed.\n",
              "  inputElement.disabled = true;\n",
              "\n",
              "  if (!files) {\n",
              "    return {\n",
              "      response: {\n",
              "        action: 'complete',\n",
              "      }\n",
              "    };\n",
              "  }\n",
              "\n",
              "  for (const file of files) {\n",
              "    const li = document.createElement('li');\n",
              "    li.append(span(file.name, {fontWeight: 'bold'}));\n",
              "    li.append(span(\n",
              "        `(${file.type || 'n/a'}) - ${file.size} bytes, ` +\n",
              "        `last modified: ${\n",
              "            file.lastModifiedDate ? file.lastModifiedDate.toLocaleDateString() :\n",
              "                                    'n/a'} - `));\n",
              "    const percent = span('0% done');\n",
              "    li.appendChild(percent);\n",
              "\n",
              "    outputElement.appendChild(li);\n",
              "\n",
              "    const fileDataPromise = new Promise((resolve) => {\n",
              "      const reader = new FileReader();\n",
              "      reader.onload = (e) => {\n",
              "        resolve(e.target.result);\n",
              "      };\n",
              "      reader.readAsArrayBuffer(file);\n",
              "    });\n",
              "    // Wait for the data to be ready.\n",
              "    let fileData = yield {\n",
              "      promise: fileDataPromise,\n",
              "      response: {\n",
              "        action: 'continue',\n",
              "      }\n",
              "    };\n",
              "\n",
              "    // Use a chunked sending to avoid message size limits. See b/62115660.\n",
              "    let position = 0;\n",
              "    do {\n",
              "      const length = Math.min(fileData.byteLength - position, MAX_PAYLOAD_SIZE);\n",
              "      const chunk = new Uint8Array(fileData, position, length);\n",
              "      position += length;\n",
              "\n",
              "      const base64 = btoa(String.fromCharCode.apply(null, chunk));\n",
              "      yield {\n",
              "        response: {\n",
              "          action: 'append',\n",
              "          file: file.name,\n",
              "          data: base64,\n",
              "        },\n",
              "      };\n",
              "\n",
              "      let percentDone = fileData.byteLength === 0 ?\n",
              "          100 :\n",
              "          Math.round((position / fileData.byteLength) * 100);\n",
              "      percent.textContent = `${percentDone}% done`;\n",
              "\n",
              "    } while (position < fileData.byteLength);\n",
              "  }\n",
              "\n",
              "  // All done.\n",
              "  yield {\n",
              "    response: {\n",
              "      action: 'complete',\n",
              "    }\n",
              "  };\n",
              "}\n",
              "\n",
              "scope.google = scope.google || {};\n",
              "scope.google.colab = scope.google.colab || {};\n",
              "scope.google.colab._files = {\n",
              "  _uploadFiles,\n",
              "  _uploadFilesContinue,\n",
              "};\n",
              "})(self);\n",
              "</script> "
            ]
          },
          "metadata": {}
        },
        {
          "output_type": "stream",
          "name": "stdout",
          "text": [
            "Saving german_credit_data.csv to german_credit_data (1).csv\n",
            "+---+---+------+---+-------+---------------+----------------+-------------+--------+-------------------+\n",
            "|_c0|Age|   Sex|Job|Housing|Saving accounts|Checking account|Credit amount|Duration|            Purpose|\n",
            "+---+---+------+---+-------+---------------+----------------+-------------+--------+-------------------+\n",
            "|  0| 67|  male|  2|    own|             NA|          little|         1169|       6|           radio/TV|\n",
            "|  1| 22|female|  2|    own|         little|        moderate|         5951|      48|           radio/TV|\n",
            "|  2| 49|  male|  1|    own|         little|              NA|         2096|      12|          education|\n",
            "|  3| 45|  male|  2|   free|         little|          little|         7882|      42|furniture/equipment|\n",
            "|  4| 53|  male|  2|   free|         little|          little|         4870|      24|                car|\n",
            "+---+---+------+---+-------+---------------+----------------+-------------+--------+-------------------+\n",
            "only showing top 5 rows\n",
            "\n",
            "root\n",
            " |-- _c0: integer (nullable = true)\n",
            " |-- Age: integer (nullable = true)\n",
            " |-- Sex: string (nullable = true)\n",
            " |-- Job: integer (nullable = true)\n",
            " |-- Housing: string (nullable = true)\n",
            " |-- Saving accounts: string (nullable = true)\n",
            " |-- Checking account: string (nullable = true)\n",
            " |-- Credit amount: integer (nullable = true)\n",
            " |-- Duration: integer (nullable = true)\n",
            " |-- Purpose: string (nullable = true)\n",
            "\n"
          ]
        }
      ]
    },
    {
      "cell_type": "code",
      "source": [
        "from pyspark.sql.functions import col\n",
        "\n",
        "# Eksik değer kontrolü\n",
        "df.select([col(c).isNull().alias(c) for c in df.columns]).show()\n",
        "\n",
        "\n"
      ],
      "metadata": {
        "colab": {
          "base_uri": "https://localhost:8080/"
        },
        "id": "szYyhDHNOkzU",
        "outputId": "e8efc293-d869-445c-efdd-5cf666eecdef"
      },
      "execution_count": 5,
      "outputs": [
        {
          "output_type": "stream",
          "name": "stdout",
          "text": [
            "+-----+-----+-----+-----+-------+---------------+----------------+-------------+--------+-------+\n",
            "|  _c0|  Age|  Sex|  Job|Housing|Saving accounts|Checking account|Credit amount|Duration|Purpose|\n",
            "+-----+-----+-----+-----+-------+---------------+----------------+-------------+--------+-------+\n",
            "|false|false|false|false|  false|          false|           false|        false|   false|  false|\n",
            "|false|false|false|false|  false|          false|           false|        false|   false|  false|\n",
            "|false|false|false|false|  false|          false|           false|        false|   false|  false|\n",
            "|false|false|false|false|  false|          false|           false|        false|   false|  false|\n",
            "|false|false|false|false|  false|          false|           false|        false|   false|  false|\n",
            "|false|false|false|false|  false|          false|           false|        false|   false|  false|\n",
            "|false|false|false|false|  false|          false|           false|        false|   false|  false|\n",
            "|false|false|false|false|  false|          false|           false|        false|   false|  false|\n",
            "|false|false|false|false|  false|          false|           false|        false|   false|  false|\n",
            "|false|false|false|false|  false|          false|           false|        false|   false|  false|\n",
            "|false|false|false|false|  false|          false|           false|        false|   false|  false|\n",
            "|false|false|false|false|  false|          false|           false|        false|   false|  false|\n",
            "|false|false|false|false|  false|          false|           false|        false|   false|  false|\n",
            "|false|false|false|false|  false|          false|           false|        false|   false|  false|\n",
            "|false|false|false|false|  false|          false|           false|        false|   false|  false|\n",
            "|false|false|false|false|  false|          false|           false|        false|   false|  false|\n",
            "|false|false|false|false|  false|          false|           false|        false|   false|  false|\n",
            "|false|false|false|false|  false|          false|           false|        false|   false|  false|\n",
            "|false|false|false|false|  false|          false|           false|        false|   false|  false|\n",
            "|false|false|false|false|  false|          false|           false|        false|   false|  false|\n",
            "+-----+-----+-----+-----+-------+---------------+----------------+-------------+--------+-------+\n",
            "only showing top 20 rows\n",
            "\n"
          ]
        }
      ]
    },
    {
      "cell_type": "code",
      "source": [
        "from pyspark.sql.functions import expr\n",
        "\n",
        "df = df.withColumn(\"credit_per_age\", expr(\"`Credit amount` / Age\"))\n",
        "df = df.withColumn(\"installment_rate\", expr(\"`Credit amount` / Duration\"))\n",
        "df.show(5)\n"
      ],
      "metadata": {
        "colab": {
          "base_uri": "https://localhost:8080/"
        },
        "id": "FueUrredO-kp",
        "outputId": "c6154ba4-6730-41ec-e95a-7caffaf46549"
      },
      "execution_count": 7,
      "outputs": [
        {
          "output_type": "stream",
          "name": "stdout",
          "text": [
            "+---+---+------+---+-------+---------------+----------------+-------------+--------+-------------------+------------------+------------------+\n",
            "|_c0|Age|   Sex|Job|Housing|Saving accounts|Checking account|Credit amount|Duration|            Purpose|    credit_per_age|  installment_rate|\n",
            "+---+---+------+---+-------+---------------+----------------+-------------+--------+-------------------+------------------+------------------+\n",
            "|  0| 67|  male|  2|    own|             NA|          little|         1169|       6|           radio/TV| 17.44776119402985|194.83333333333334|\n",
            "|  1| 22|female|  2|    own|         little|        moderate|         5951|      48|           radio/TV|             270.5|123.97916666666667|\n",
            "|  2| 49|  male|  1|    own|         little|              NA|         2096|      12|          education|42.775510204081634|174.66666666666666|\n",
            "|  3| 45|  male|  2|   free|         little|          little|         7882|      42|furniture/equipment|175.15555555555557|187.66666666666666|\n",
            "|  4| 53|  male|  2|   free|         little|          little|         4870|      24|                car| 91.88679245283019|202.91666666666666|\n",
            "+---+---+------+---+-------+---------------+----------------+-------------+--------+-------------------+------------------+------------------+\n",
            "only showing top 5 rows\n",
            "\n"
          ]
        }
      ]
    },
    {
      "cell_type": "code",
      "source": [
        "from pyspark.ml.feature import StringIndexer\n",
        "\n",
        "categorical_cols = [\"Sex\",\"Housing\",\"Saving accounts\",\"Checking account\",\"Purpose\"]\n",
        "\n",
        "for col_name in categorical_cols:\n",
        "    indexer = StringIndexer(inputCol=col_name, outputCol=col_name+\"_index\")\n",
        "    df = indexer.fit(df).transform(df)\n",
        "\n",
        "df.show(5)\n"
      ],
      "metadata": {
        "colab": {
          "base_uri": "https://localhost:8080/"
        },
        "id": "bsAcxI8cPP4U",
        "outputId": "19333d84-f18a-474a-bdd5-7de287bc0ff0"
      },
      "execution_count": 8,
      "outputs": [
        {
          "output_type": "stream",
          "name": "stdout",
          "text": [
            "+---+---+------+---+-------+---------------+----------------+-------------+--------+-------------------+------------------+------------------+---------+-------------+---------------------+----------------------+-------------+\n",
            "|_c0|Age|   Sex|Job|Housing|Saving accounts|Checking account|Credit amount|Duration|            Purpose|    credit_per_age|  installment_rate|Sex_index|Housing_index|Saving accounts_index|Checking account_index|Purpose_index|\n",
            "+---+---+------+---+-------+---------------+----------------+-------------+--------+-------------------+------------------+------------------+---------+-------------+---------------------+----------------------+-------------+\n",
            "|  0| 67|  male|  2|    own|             NA|          little|         1169|       6|           radio/TV| 17.44776119402985|194.83333333333334|      0.0|          0.0|                  1.0|                   1.0|          1.0|\n",
            "|  1| 22|female|  2|    own|         little|        moderate|         5951|      48|           radio/TV|             270.5|123.97916666666667|      1.0|          0.0|                  0.0|                   2.0|          1.0|\n",
            "|  2| 49|  male|  1|    own|         little|              NA|         2096|      12|          education|42.775510204081634|174.66666666666666|      0.0|          0.0|                  0.0|                   0.0|          4.0|\n",
            "|  3| 45|  male|  2|   free|         little|          little|         7882|      42|furniture/equipment|175.15555555555557|187.66666666666666|      0.0|          2.0|                  0.0|                   1.0|          2.0|\n",
            "|  4| 53|  male|  2|   free|         little|          little|         4870|      24|                car| 91.88679245283019|202.91666666666666|      0.0|          2.0|                  0.0|                   1.0|          0.0|\n",
            "+---+---+------+---+-------+---------------+----------------+-------------+--------+-------------------+------------------+------------------+---------+-------------+---------------------+----------------------+-------------+\n",
            "only showing top 5 rows\n",
            "\n"
          ]
        }
      ]
    },
    {
      "cell_type": "code",
      "source": [
        "# Sütun isimlerini listele\n",
        "print(df.columns)\n"
      ],
      "metadata": {
        "colab": {
          "base_uri": "https://localhost:8080/"
        },
        "id": "miqwYMtNPUzi",
        "outputId": "cb4aac01-74aa-4e00-a4df-8dd7e0d32c43"
      },
      "execution_count": 10,
      "outputs": [
        {
          "output_type": "stream",
          "name": "stdout",
          "text": [
            "['_c0', 'Age', 'Sex', 'Job', 'Housing', 'Saving accounts', 'Checking account', 'Credit amount', 'Duration', 'Purpose', 'credit_per_age', 'installment_rate', 'Sex_index', 'Housing_index', 'Saving accounts_index', 'Checking account_index', 'Purpose_index']\n"
          ]
        }
      ]
    },
    {
      "cell_type": "code",
      "source": [
        "from pyspark.sql.functions import when\n",
        "\n",
        "final_df = assembler.transform(df)\n",
        "\n",
        "# Yeni label kolonu ekle\n",
        "final_df = final_df.withColumn(\"label\", when(df[\"Credit amount\"] > 5000, 1).otherwise(0))\n",
        "\n",
        "final_df.select(\"features\", \"label\").show(5, truncate=False)\n"
      ],
      "metadata": {
        "colab": {
          "base_uri": "https://localhost:8080/"
        },
        "id": "2WU6TbTLPz4i",
        "outputId": "1eb7046c-8400-4637-dc0e-433a6c42894f"
      },
      "execution_count": 11,
      "outputs": [
        {
          "output_type": "stream",
          "name": "stdout",
          "text": [
            "+--------------------------------------------------------------------------------+-----+\n",
            "|features                                                                        |label|\n",
            "+--------------------------------------------------------------------------------+-----+\n",
            "|[67.0,2.0,1169.0,6.0,17.44776119402985,194.83333333333334,0.0,0.0,1.0,1.0,1.0]  |0    |\n",
            "|[22.0,2.0,5951.0,48.0,270.5,123.97916666666667,1.0,0.0,0.0,2.0,1.0]             |1    |\n",
            "|[49.0,1.0,2096.0,12.0,42.775510204081634,174.66666666666666,0.0,0.0,0.0,0.0,4.0]|0    |\n",
            "|[45.0,2.0,7882.0,42.0,175.15555555555557,187.66666666666666,0.0,2.0,0.0,1.0,2.0]|1    |\n",
            "|[53.0,2.0,4870.0,24.0,91.88679245283019,202.91666666666666,0.0,2.0,0.0,1.0,0.0] |0    |\n",
            "+--------------------------------------------------------------------------------+-----+\n",
            "only showing top 5 rows\n",
            "\n"
          ]
        }
      ]
    },
    {
      "cell_type": "code",
      "source": [
        "train_df, test_df = final_df.randomSplit([0.7, 0.3], seed=42)\n"
      ],
      "metadata": {
        "id": "KU91S998P5ib"
      },
      "execution_count": 12,
      "outputs": []
    },
    {
      "cell_type": "code",
      "source": [
        "from pyspark.ml.classification import LogisticRegression\n",
        "\n",
        "lr = LogisticRegression(featuresCol=\"features\", labelCol=\"label\")\n",
        "lr_model = lr.fit(train_df)\n",
        "\n",
        "preds = lr_model.transform(test_df)\n",
        "preds.select(\"label\", \"prediction\", \"probability\").show(10, truncate=False)\n"
      ],
      "metadata": {
        "colab": {
          "base_uri": "https://localhost:8080/"
        },
        "id": "zulfZ87tQB86",
        "outputId": "fb3a61b9-8ba0-4ff0-8fbe-fea48b33bae8"
      },
      "execution_count": 13,
      "outputs": [
        {
          "output_type": "stream",
          "name": "stdout",
          "text": [
            "+-----+----------+---------------------------+\n",
            "|label|prediction|probability                |\n",
            "+-----+----------+---------------------------+\n",
            "|0    |0.0       |[1.0,0.0]                  |\n",
            "|0    |0.0       |[1.0,0.0]                  |\n",
            "|0    |0.0       |[1.0,0.0]                  |\n",
            "|1    |1.0       |[1.818900765513856E-30,1.0]|\n",
            "|0    |0.0       |[1.0,0.0]                  |\n",
            "|0    |0.0       |[1.0,0.0]                  |\n",
            "|0    |0.0       |[1.0,0.0]                  |\n",
            "|0    |0.0       |[1.0,0.0]                  |\n",
            "|0    |0.0       |[1.0,0.0]                  |\n",
            "|0    |0.0       |[1.0,0.0]                  |\n",
            "+-----+----------+---------------------------+\n",
            "only showing top 10 rows\n",
            "\n"
          ]
        }
      ]
    },
    {
      "cell_type": "code",
      "source": [
        "from pyspark.ml.evaluation import BinaryClassificationEvaluator\n",
        "\n",
        "evaluator = BinaryClassificationEvaluator(labelCol=\"label\", metricName=\"areaUnderROC\")\n",
        "auc = evaluator.evaluate(preds)\n",
        "print(\"Logistic Regression AUC:\", auc)\n"
      ],
      "metadata": {
        "colab": {
          "base_uri": "https://localhost:8080/"
        },
        "id": "0SUOV0tpQDfo",
        "outputId": "6e2f6003-756d-4a1a-ee01-de24e6493d83"
      },
      "execution_count": 14,
      "outputs": [
        {
          "output_type": "stream",
          "name": "stdout",
          "text": [
            "Logistic Regression AUC: 0.998881528004818\n"
          ]
        }
      ]
    },
    {
      "cell_type": "code",
      "source": [
        "from pyspark.ml.classification import RandomForestClassifier\n",
        "\n",
        "rf = RandomForestClassifier(featuresCol=\"features\", labelCol=\"label\", numTrees=50)\n",
        "rf_model = rf.fit(train_df)\n",
        "\n",
        "rf_preds = rf_model.transform(test_df)\n",
        "auc_rf = evaluator.evaluate(rf_preds)\n",
        "print(\"Random Forest AUC:\", auc_rf)\n"
      ],
      "metadata": {
        "colab": {
          "base_uri": "https://localhost:8080/"
        },
        "id": "1YwKEgm5QJbM",
        "outputId": "c5514e88-ae60-470d-df21-13f4f1cdce3f"
      },
      "execution_count": 15,
      "outputs": [
        {
          "output_type": "stream",
          "name": "stdout",
          "text": [
            "Random Forest AUC: 0.9993117095414265\n"
          ]
        }
      ]
    },
    {
      "cell_type": "code",
      "source": [
        "rf_model.write().overwrite().save(\"/content/rf_model\")\n",
        "print(\"Model kaydedildi!\")\n"
      ],
      "metadata": {
        "colab": {
          "base_uri": "https://localhost:8080/"
        },
        "id": "jBQWmFyiQLPY",
        "outputId": "aeef7d8d-f61b-41fb-9287-e0e0332f4f24"
      },
      "execution_count": 16,
      "outputs": [
        {
          "output_type": "stream",
          "name": "stdout",
          "text": [
            "Model kaydedildi!\n"
          ]
        }
      ]
    },
    {
      "cell_type": "code",
      "source": [],
      "metadata": {
        "id": "TdMwfrRtQPFV"
      },
      "execution_count": null,
      "outputs": []
    }
  ]
}